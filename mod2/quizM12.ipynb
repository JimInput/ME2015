{
 "cells": [
  {
   "cell_type": "code",
   "execution_count": 1,
   "id": "44e71013",
   "metadata": {},
   "outputs": [
    {
     "data": {
      "text/plain": [
       "36.0"
      ]
     },
     "execution_count": 1,
     "metadata": {},
     "output_type": "execute_result"
    }
   ],
   "source": [
    "4*3**2*4**(-1)+3*2**2+6-2/2+1e1"
   ]
  },
  {
   "cell_type": "code",
   "execution_count": 2,
   "id": "1d928ea6",
   "metadata": {},
   "outputs": [
    {
     "name": "stdout",
     "output_type": "stream",
     "text": [
      "[3 4 7]\n"
     ]
    }
   ],
   "source": [
    "import numpy as np\n",
    "\n",
    "C = np.array([[1, 3, 5, 7], [2, 4, 6, 8], [9, 7, 5, 3], [8, 0, 4, 6]])\n",
    "print(C[0:3,1])"
   ]
  },
  {
   "cell_type": "code",
   "execution_count": 3,
   "id": "309a748f",
   "metadata": {},
   "outputs": [
    {
     "name": "stdout",
     "output_type": "stream",
     "text": [
      "5\n",
      "7\n",
      "9\n"
     ]
    }
   ],
   "source": [
    "x = 3\n",
    "while True:\n",
    "    x = x + 2\n",
    "    if x >= 10:\n",
    "        break\n",
    "    else:\n",
    "        print(x)"
   ]
  },
  {
   "cell_type": "code",
   "execution_count": 6,
   "id": "a134e891",
   "metadata": {},
   "outputs": [
    {
     "name": "stdout",
     "output_type": "stream",
     "text": [
      "[[ 7.  9.  5.]\n",
      " [11. 12. 13.]\n",
      " [ 0.  1.  2.]]\n"
     ]
    }
   ],
   "source": [
    "A = np.array([[7, 9, 5], np.arange(11,14), np.linspace(0,2,3)])\n",
    "print(A)"
   ]
  },
  {
   "cell_type": "code",
   "execution_count": 7,
   "id": "3d1eb2a8",
   "metadata": {},
   "outputs": [],
   "source": [
    "import matplotlib.pyplot as plt"
   ]
  },
  {
   "cell_type": "code",
   "execution_count": 13,
   "id": "8298b35b",
   "metadata": {},
   "outputs": [
    {
     "data": {
      "image/png": "[encoded data removed]",
      "text/plain": [
       "<Figure size 640x480 with 1 Axes>"
      ]
     },
     "metadata": {},
     "output_type": "display_data"
    }
   ],
   "source": [
    "# A\n",
    "# x = [1,2,3,4,5]\n",
    "# y = [0.37,0.14,0.05,0.02,0]\n",
    "# plt.plot(x, y, 'bs-')\n",
    "\n",
    "# B\n",
    "y = lambda x: np.exp(-x)\n",
    "x = np.arange(1,6,0.5)\n",
    "plt.plot(x, y(x), 'bs-')\n",
    "\n",
    "# C\n",
    "# y = lambda x: np.exp(-x)\n",
    "# x = np.arange(1, 5.5)\n",
    "# plt.plot(x, y(x), 'bs-')\n",
    "\n",
    "# D\n",
    "# x = np.arange(1,6)\n",
    "# y = [0.37, 0.14, 0.05, 0.02, 0.01, 0.001]\n",
    "# plt.plot(x, y, 'bs-')\n",
    "\n",
    "plt.xlabel('x')\n",
    "plt.ylabel('exp(-x)')\n",
    "plt.grid(True)\n",
    "plt.show()"
   ]
  },
  {
   "cell_type": "code",
   "execution_count": 14,
   "id": "05612dc2",
   "metadata": {},
   "outputs": [
    {
     "name": "stdout",
     "output_type": "stream",
     "text": [
      "w = 41.092031908954496\n",
      "w= -2\n",
      "b= 41.092031908954496\n"
     ]
    },
    {
     "ename": "NameError",
     "evalue": "name 'g' is not defined",
     "output_type": "error",
     "traceback": [
      "\u001b[0;31m---------------------------------------------------------------------------\u001b[0m",
      "\u001b[0;31mNameError\u001b[0m                                 Traceback (most recent call last)",
      "Cell \u001b[0;32mIn[14], line 13\u001b[0m\n\u001b[1;32m     11\u001b[0m \u001b[38;5;28mprint\u001b[39m(\u001b[38;5;124m'\u001b[39m\u001b[38;5;124mw=\u001b[39m\u001b[38;5;124m'\u001b[39m, w)\n\u001b[1;32m     12\u001b[0m \u001b[38;5;28mprint\u001b[39m(\u001b[38;5;124m'\u001b[39m\u001b[38;5;124mb=\u001b[39m\u001b[38;5;124m'\u001b[39m, b)\n\u001b[0;32m---> 13\u001b[0m \u001b[38;5;28mprint\u001b[39m(\u001b[38;5;124m'\u001b[39m\u001b[38;5;124mg=\u001b[39m\u001b[38;5;124m'\u001b[39m, \u001b[43mg\u001b[49m)\n",
      "\u001b[0;31mNameError\u001b[0m: name 'g' is not defined"
     ]
    }
   ],
   "source": [
    "def bouyancy(r,d):\n",
    "    g = 9.81\n",
    "    vol = 4. / 3. * np.pi * r**3\n",
    "    w = vol * d * g\n",
    "    print('w =', w)\n",
    "    return w\n",
    "\n",
    "b = 0\n",
    "w = -2\n",
    "b = bouyancy(1, 1)\n",
    "print('w=', w)\n",
    "print('b=', b)\n",
    "print('g=', g)\n",
    "    "
   ]
  }
 ],
 "metadata": {
  "kernelspec": {
   "display_name": "Python 3",
   "language": "python",
   "name": "python3"
  },
  "language_info": {
   "codemirror_mode": {
    "name": "ipython",
    "version": 3
   },
   "file_extension": ".py",
   "mimetype": "text/x-python",
   "name": "python",
   "nbconvert_exporter": "python",
   "pygments_lexer": "ipython3",
   "version": "3.12.3"
  }
 },
 "nbformat": 4,
 "nbformat_minor": 5
}
