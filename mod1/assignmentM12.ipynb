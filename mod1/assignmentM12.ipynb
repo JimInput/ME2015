{
  "nbformat": 4,
  "nbformat_minor": 0,
  "metadata": {
    "colab": {
      "provenance": []
    },
    "kernelspec": {
      "name": "python3",
      "display_name": "Python 3"
    }
  },
  "cells": [
    {
      "cell_type": "markdown",
      "metadata": {
        "id": "LTmhj0Is_Swx"
      },
      "source": [
        "# Assignment M1.2\n"
      ]
    },
    {
      "cell_type": "markdown",
      "metadata": {
        "id": "i19RpXr2XOcJ"
      },
      "source": [
        "## Q1\n",
        "Find $y=\\sqrt{x^2+1}$ if $x=2$. Print $y$ value."
      ]
    },
    {
      "cell_type": "code",
      "metadata": {
        "id": "e8BptNf3-tYe",
        "colab": {
          "base_uri": "https://localhost:8080/"
        },
        "outputId": "8434a7a5-b1dd-41a9-ce63-787da58fe4b4"
      },
      "source": [
        "# Q1 Answer\n",
        "x = 2\n",
        "y = (x**2 + 1)**0.5\n",
        "print('y=',y)\n"
      ],
      "execution_count": null,
      "outputs": [
        {
          "output_type": "stream",
          "name": "stdout",
          "text": [
            "y= 2.23606797749979\n"
          ]
        }
      ]
    }
  ]
}